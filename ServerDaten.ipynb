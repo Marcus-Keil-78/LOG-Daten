{
 "cells": [
  {
   "cell_type": "code",
   "execution_count": null,
   "metadata": {},
   "outputs": [],
   "source": [
    "import pandas as pd\n",
    "import geocoder\n",
    "print(\"Fertig!\")"
   ]
  },
  {
   "cell_type": "code",
   "execution_count": null,
   "metadata": {},
   "outputs": [],
   "source": [
    "datei=\"connectlog_2023-6-22-8 9 51\"\n",
    "print(\"Fertig!\")"
   ]
  },
  {
   "cell_type": "code",
   "execution_count": null,
   "metadata": {},
   "outputs": [],
   "source": [
    "PATH_READ=\">>Dateipfad<<\"+datei+\".csv\"\n",
    "PATH_WRITE=\">>Dateipfad<<\"+datei+\".csv\"\n",
    "print(\"Fertig!\")"
   ]
  },
  {
   "cell_type": "code",
   "execution_count": null,
   "metadata": {},
   "outputs": [],
   "source": [
    "# Einlesen der CSV-Datei\n",
    "df=pd.read_csv(PATH_READ, skiprows=[0])\n",
    "display(df)\n",
    "\n",
    "# Filtern\n",
    "df=df[df[\"Stufe\"]==\"Warnung\"]\n",
    "display(df)\n",
    "\n",
    "# Aufteilen der Spalte in einem neuen DataFrame\n",
    "df1=df[\"Ereignis\"].str.split(\"[\", expand=True)\n",
    "display(df1)\n",
    "\n",
    "# Aufteilen der Spalte in einem neuen DataFrame\n",
    "df2=df1[2].str.split(\"]\", expand=True).drop(columns=1).rename(columns={0:\"IP-Adresse\"})\n",
    "display(df2)\n",
    "\n",
    "# Hinzufügen einer Spalte mit Daten eines anderen DataFrames\n",
    "df2[\"Fehler\"]=df1[4]\n",
    "display(df2)\n",
    "\n",
    "# Zusammenfügen der Benötigten Daten\n",
    "df_neu=df.merge(df2, left_index=True, right_index=True).drop(columns=\"Ereignis\")\n",
    "display(df_neu)\n",
    "print(\"Fertig!\")"
   ]
  },
  {
   "cell_type": "code",
   "execution_count": null,
   "metadata": {},
   "outputs": [],
   "source": [
    "# Leeren Dataframe\n",
    "df_IP=pd.DataFrame()\n",
    "\n",
    "# erstellen einer Spalte und mit Daten füllen\n",
    "df_IP[\"IP-Adresse\"]=df_neu[\"IP-Adresse\"].unique()\n",
    "print(\"Länge: \",+len(df_IP))\n",
    "display(df_IP)\n",
    "print(\"Fertig!\")"
   ]
  },
  {
   "cell_type": "code",
   "execution_count": null,
   "metadata": {},
   "outputs": [],
   "source": [
    "# erstellen einer Spalte und mit Daten füllen\n",
    "df_IP[\"GEO-Daten\"]=[geocoder.ip(i) for i in df_IP[\"IP-Adresse\"]]\n",
    "display(df_IP)\n",
    "print(\"Fertig!\")"
   ]
  },
  {
   "cell_type": "code",
   "execution_count": null,
   "metadata": {},
   "outputs": [],
   "source": [
    "# Zusammenfügen der Benötigten Daten\n",
    "df_neu=df_neu.merge(df_IP, left_on=\"IP-Adresse\", right_on=\"IP-Adresse\")\n",
    "\n",
    "# Daten als CSV-Datei abspeichern\n",
    "df_neu.to_csv(PATH_WRITE)\n",
    "display(df_neu)\n",
    "print(\"Fertig!\")"
   ]
  }
 ],
 "metadata": {
  "kernelspec": {
   "display_name": "Python 3",
   "language": "python",
   "name": "python3"
  },
  "language_info": {
   "codemirror_mode": {
    "name": "ipython",
    "version": 3
   },
   "file_extension": ".py",
   "mimetype": "text/x-python",
   "name": "python",
   "nbconvert_exporter": "python",
   "pygments_lexer": "ipython3",
   "version": "3.11.1"
  },
  "orig_nbformat": 4,
  "vscode": {
   "interpreter": {
    "hash": "5238573367df39f7286bb46f9ff5f08f63a01a80960060ce41e3c79b190280fa"
   }
  }
 },
 "nbformat": 4,
 "nbformat_minor": 2
}
